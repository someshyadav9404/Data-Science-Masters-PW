{
 "cells": [
  {
   "cell_type": "markdown",
   "id": "d593fd6e",
   "metadata": {},
   "source": [
    "# Q1. Explain with an example each when to use a for loop and a while loop."
   ]
  },
  {
   "cell_type": "raw",
   "id": "cdc59222",
   "metadata": {},
   "source": [
    "For loop"
   ]
  },
  {
   "cell_type": "markdown",
   "id": "1baa9558",
   "metadata": {},
   "source": [
    "In Python, a ‘for loop‘ is used to iterate over a sequence of items, such as a Python tuple, list, string, or range. The loop will execute a block of statements for each item in the sequence."
   ]
  },
  {
   "cell_type": "markdown",
   "id": "cfecf7b8",
   "metadata": {},
   "source": [
    " for example"
   ]
  },
  {
   "cell_type": "code",
   "execution_count": 2,
   "id": "21b41360",
   "metadata": {},
   "outputs": [
    {
     "name": "stdout",
     "output_type": "stream",
     "text": [
      "pen\n",
      "notebook\n",
      "pencil\n",
      "lunch box\n"
     ]
    }
   ],
   "source": [
    "# Create a list of items \n",
    "items = ['pen', 'notebook', \n",
    "\t\t'pencil', 'lunch box'] \n",
    "\n",
    "# Run a loop to print \n",
    "# items in a list \n",
    "for item in items: \n",
    "    print(item) \n"
   ]
  },
  {
   "cell_type": "raw",
   "id": "5845a408",
   "metadata": {},
   "source": [
    "While loop"
   ]
  },
  {
   "cell_type": "markdown",
   "id": "d7d12745",
   "metadata": {},
   "source": [
    "In Python, a while loop is used to repeatedly execute a block of statements while a condition is true. The loop will continue to run as long as the condition remains true."
   ]
  },
  {
   "cell_type": "markdown",
   "id": "b98da997",
   "metadata": {},
   "source": [
    "for example"
   ]
  },
  {
   "cell_type": "code",
   "execution_count": 28,
   "id": "e03a60d4",
   "metadata": {},
   "outputs": [
    {
     "name": "stdout",
     "output_type": "stream",
     "text": [
      "pen\n",
      "notebook\n",
      "pencil\n",
      "lunch box\n"
     ]
    }
   ],
   "source": [
    "# Create a list of items \n",
    "items = ['pen', 'notebook', \n",
    "\t\t'pencil', 'lunch box'] \n",
    "\n",
    "# Declare a index \n",
    "index = 0\n",
    "\n",
    "# Store length of items list \n",
    "items_len = len(items) \n",
    "\n",
    "# Run a loop to print \n",
    "# items in a list \n",
    "while index<items_len: \n",
    "    print(items[index]) \n",
    "    index = index+1\n",
    "\n"
   ]
  },
  {
   "cell_type": "markdown",
   "id": "4f0c239c",
   "metadata": {},
   "source": [
    "# Q2. Write a python program to print the sum and product of the first 10 natural numbers using for and while loop.\n"
   ]
  },
  {
   "cell_type": "markdown",
   "id": "3c195bec",
   "metadata": {},
   "source": [
    "Using for loop"
   ]
  },
  {
   "cell_type": "code",
   "execution_count": 29,
   "id": "5aa089c3",
   "metadata": {},
   "outputs": [
    {
     "name": "stdout",
     "output_type": "stream",
     "text": [
      "sum of first 10 natural numbers  55 product of first 10 natural numbers is 3628800\n"
     ]
    }
   ],
   "source": [
    "#Python program to print the sum of the first 10 natural numbers using for loop\n",
    "sum = 0;product = 1;\n",
    "for n in range(1,11):\n",
    "    sum += n;\n",
    "    product *= n;\n",
    "print(\"sum of first 10 natural numbers \",sum , \"product of first 10 natural numbers is\" ,product)"
   ]
  },
  {
   "cell_type": "markdown",
   "id": "01ab0786",
   "metadata": {},
   "source": [
    "Using while loop"
   ]
  },
  {
   "cell_type": "code",
   "execution_count": 34,
   "id": "5e1386ca",
   "metadata": {},
   "outputs": [
    {
     "name": "stdout",
     "output_type": "stream",
     "text": [
      "sum of first 10 natural numbers  55 product of first 10 natural numbers is 3628800\n"
     ]
    }
   ],
   "source": [
    "#Python program to print the sum of the first 10 natural numbers using while loop\n",
    "sum = 0 ; product = 1;n = 1;\n",
    "while n <= 10:\n",
    "    sum += n;\n",
    "    product*= n;\n",
    "    n+=1;\n",
    "print(\"sum of first 10 natural numbers \",sum , \"product of first 10 natural numbers is\" ,product)"
   ]
  },
  {
   "cell_type": "markdown",
   "id": "38b9d417",
   "metadata": {},
   "source": [
    "# Q3. Create a python program to compute the electricity bill for a household.\n",
    "# The per-unit charges in rupees are as follows: For the first 100 units, the user will be charged Rs. 4.5 per unit, for the next 100 units, the user will be charged Rs. 6 per unit, and for the next 100 units, the user willbe charged Rs. 10 per unit, After 300 units and above the user will be charged Rs. 20 per unit.\n",
    "\n"
   ]
  },
  {
   "cell_type": "code",
   "execution_count": 58,
   "id": "8ff3d70e",
   "metadata": {},
   "outputs": [
    {
     "name": "stdout",
     "output_type": "stream",
     "text": [
      "enter the units used in a month310\n",
      "2250.0\n"
     ]
    }
   ],
   "source": [
    "units = int(input(\"enter the units used in a month\"));\n",
    "if units <= 100:\n",
    "    Rs = 4.5* units;\n",
    "elif ((units > 100) & (units <= 200)):\n",
    "    Rs = 4.5*100 + 6*(units -100)\n",
    "elif ((units > 200) & (units <= 300)):\n",
    "    Rs = 4.5*100 + 6*100 + 10*(units -200)\n",
    "else:\n",
    "    Rs = 4.5*100 + 6*100 + 10*100 + 20*(units -300)\n",
    "print(Rs)"
   ]
  },
  {
   "cell_type": "markdown",
   "id": "551f1743",
   "metadata": {},
   "source": [
    "# Q4. Create a list of numbers from 1 to 100. Use for loop and while loop to calculate the cube of each number and if the cube of that number is divisible by 4 or 5 then append that number in a list and print that list.\n"
   ]
  },
  {
   "cell_type": "code",
   "execution_count": 63,
   "id": "77c8f5be",
   "metadata": {},
   "outputs": [
    {
     "name": "stdout",
     "output_type": "stream",
     "text": [
      "[8, 64, 125, 216, 512, 1000, 1728, 2744, 3375, 4096, 5832, 8000, 10648, 13824, 15625, 17576, 21952, 27000, 32768, 39304, 42875, 46656, 54872, 64000, 74088, 85184, 91125, 97336, 110592, 125000, 140608, 157464, 166375, 175616, 195112, 216000, 238328, 262144, 274625, 287496, 314432, 343000, 373248, 405224, 421875, 438976, 474552, 512000, 551368, 592704, 614125, 636056, 681472, 729000, 778688, 830584, 857375, 884736, 941192, 1000000]\n"
     ]
    }
   ],
   "source": [
    "list= [];\n",
    "#using for loop\n",
    "for n in range(1,101):\n",
    "    list.append(n);\n",
    "cubes= [];\n",
    "n = 1;\n",
    "#using while loop\n",
    "while n<= 100 :\n",
    "    cube = n**3;\n",
    "    if((cube%4 == 0) | (cube%5 == 0)):\n",
    "        cubes.append(cube);\n",
    "    n+=1;\n",
    "print(cubes)\n",
    "        \n"
   ]
  },
  {
   "cell_type": "markdown",
   "id": "e85fe7ee",
   "metadata": {},
   "source": [
    "# Q5. Write a program to filter count vowels in the below-given string.string = \"I want to become a data scientist\""
   ]
  },
  {
   "cell_type": "code",
   "execution_count": 66,
   "id": "2d611d07",
   "metadata": {},
   "outputs": [
    {
     "name": "stdout",
     "output_type": "stream",
     "text": [
      "12\n"
     ]
    }
   ],
   "source": [
    "count = 0;\n",
    "string = \"I want to become a data scientist\"\n",
    "for i in string:\n",
    "    if ((i == 'a')|(i == 'e')|(i == 'i')|(i == 'o')|(i == 'u')|(i == 'A')|(i == 'E')|(i == 'I')|(i == 'O') |(i == 'U')):\n",
    "        count+=1;\n",
    "print(count)        "
   ]
  }
 ],
 "metadata": {
  "kernelspec": {
   "display_name": "Python 3 (ipykernel)",
   "language": "python",
   "name": "python3"
  },
  "language_info": {
   "codemirror_mode": {
    "name": "ipython",
    "version": 3
   },
   "file_extension": ".py",
   "mimetype": "text/x-python",
   "name": "python",
   "nbconvert_exporter": "python",
   "pygments_lexer": "ipython3",
   "version": "3.11.4"
  }
 },
 "nbformat": 4,
 "nbformat_minor": 5
}
