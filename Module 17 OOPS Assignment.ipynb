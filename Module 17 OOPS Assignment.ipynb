{
 "cells": [
  {
   "cell_type": "markdown",
   "id": "fd2ba38e",
   "metadata": {},
   "source": [
    "# ASSIGNMENT 7"
   ]
  },
  {
   "cell_type": "markdown",
   "id": "3f784107",
   "metadata": {},
   "source": [
    "### Q1. What is Abstraction in OOps? Explain with an example."
   ]
  },
  {
   "cell_type": "markdown",
   "id": "ece33f8a",
   "metadata": {},
   "source": [
    "Abstraction in object-oriented programming (OOP) is a key concept that involves hiding unnecessary details from the user and only showing the information that is absolutely necessary. This makes it simpler to read and maintain the code"
   ]
  },
  {
   "cell_type": "code",
   "execution_count": 26,
   "id": "c13afaac",
   "metadata": {},
   "outputs": [],
   "source": [
    "# For Example:\n",
    " \n",
    "import abc\n",
    "class pwskills:\n",
    "    @abc.abstractmethod\n",
    "    def student_details(self):\n",
    "        pass\n",
    "    @abc.abstractmethod\n",
    "    def standard(self):\n",
    "        pass\n",
    "    @abc.abstractmethod\n",
    "    def dress_code(self):\n",
    "        pass \n",
    "    "
   ]
  },
  {
   "cell_type": "code",
   "execution_count": 27,
   "id": "1c103518",
   "metadata": {},
   "outputs": [],
   "source": [
    "class lucknow(pwskills):\n",
    "    \n",
    "    def student_details(self):\n",
    "        print(\" i am  a student from lucknow\")\n",
    "        \n",
    "    def standard(self):\n",
    "        print(\"i am in 8th standard\")"
   ]
  },
  {
   "cell_type": "code",
   "execution_count": 31,
   "id": "7d8cf557",
   "metadata": {},
   "outputs": [],
   "source": [
    "class kanpur(pwskills):\n",
    "    \n",
    "    def student_details(self):\n",
    "        return \"i am a student of kanpur \"\n",
    "        \n",
    "    def standard(self):\n",
    "        print(\"i am in 6th class\")"
   ]
  },
  {
   "cell_type": "code",
   "execution_count": 32,
   "id": "1eeea219",
   "metadata": {},
   "outputs": [
    {
     "data": {
      "text/plain": [
       "'i am a student of kanpur '"
      ]
     },
     "execution_count": 32,
     "metadata": {},
     "output_type": "execute_result"
    }
   ],
   "source": [
    "k = kanpur()\n",
    "k.student_details()"
   ]
  },
  {
   "cell_type": "code",
   "execution_count": 33,
   "id": "01810467",
   "metadata": {},
   "outputs": [
    {
     "name": "stdout",
     "output_type": "stream",
     "text": [
      " i am  a student from lucknow\n"
     ]
    }
   ],
   "source": [
    "l = lucknow()\n",
    "l.student_details()"
   ]
  },
  {
   "cell_type": "markdown",
   "id": "00ec3ae1",
   "metadata": {},
   "source": [
    "### Q2. Differentiate between Abstraction and Encapsulation. Explain with an example."
   ]
  },
  {
   "cell_type": "markdown",
   "id": "43027a17",
   "metadata": {},
   "source": [
    "Abstraction is a way of representing specific data and hiding complex implementation details, while encapsulation is a way of bundling data and methods into a single unit and controlling their access."
   ]
  },
  {
   "cell_type": "code",
   "execution_count": 34,
   "id": "3a37e3e6",
   "metadata": {},
   "outputs": [],
   "source": [
    "# For Example Abstraction\n",
    "import abc\n",
    "class pwskills:\n",
    "    @abc.abstractmethod\n",
    "    def student_details(self):\n",
    "        pass\n",
    "    @abc.abstractmethod\n",
    "    def standard(self):\n",
    "        pass\n",
    "    @abc.abstractmethod\n",
    "    def dress_code(self):\n",
    "        pass \n",
    "    \n"
   ]
  },
  {
   "cell_type": "code",
   "execution_count": 35,
   "id": "fd803c5e",
   "metadata": {},
   "outputs": [],
   "source": [
    "class lucknow(pwskills):\n",
    "    \n",
    "    def student_details(self):\n",
    "        print(\" i am  a student from lucknow\")\n",
    "        \n",
    "    def standard(self):\n",
    "        print(\"i am in 8th standard\")"
   ]
  },
  {
   "cell_type": "code",
   "execution_count": 36,
   "id": "b21549a8",
   "metadata": {},
   "outputs": [],
   "source": [
    "class kanpur(pwskills):\n",
    "    \n",
    "    def student_details(self):\n",
    "        return \"i am a student of kanpur \"\n",
    "        \n",
    "    def standard(self):\n",
    "        print(\"i am in 6th class\")"
   ]
  },
  {
   "cell_type": "code",
   "execution_count": 40,
   "id": "4171d62d",
   "metadata": {},
   "outputs": [
    {
     "data": {
      "text/plain": [
       "'i am a student of kanpur '"
      ]
     },
     "execution_count": 40,
     "metadata": {},
     "output_type": "execute_result"
    }
   ],
   "source": [
    "k = kanpur()\n",
    "k.student_details()\n"
   ]
  },
  {
   "cell_type": "code",
   "execution_count": 39,
   "id": "c8081b0f",
   "metadata": {},
   "outputs": [
    {
     "name": "stdout",
     "output_type": "stream",
     "text": [
      " i am  a student from lucknow\n"
     ]
    }
   ],
   "source": [
    "l = lucknow()\n",
    "l.student_details()"
   ]
  },
  {
   "cell_type": "code",
   "execution_count": 42,
   "id": "f10d4f9b",
   "metadata": {},
   "outputs": [],
   "source": [
    "# For Example Encapsulation\n",
    "\n",
    "class pwskills:\n",
    "    def __init__(self , name , age):\n",
    "        self.__name = name\n",
    "        self.__age = age\n",
    "        \n",
    "    "
   ]
  },
  {
   "cell_type": "code",
   "execution_count": 46,
   "id": "7a33012c",
   "metadata": {},
   "outputs": [],
   "source": [
    "p = pwskills(\"rahul\",21)"
   ]
  },
  {
   "cell_type": "code",
   "execution_count": 49,
   "id": "bee14750",
   "metadata": {},
   "outputs": [
    {
     "data": {
      "text/plain": [
       "'rahul'"
      ]
     },
     "execution_count": 49,
     "metadata": {},
     "output_type": "execute_result"
    }
   ],
   "source": [
    "p._pwskills__name"
   ]
  },
  {
   "cell_type": "code",
   "execution_count": 50,
   "id": "ca7562d0",
   "metadata": {},
   "outputs": [
    {
     "data": {
      "text/plain": [
       "21"
      ]
     },
     "execution_count": 50,
     "metadata": {},
     "output_type": "execute_result"
    }
   ],
   "source": [
    "p._pwskills__age"
   ]
  },
  {
   "cell_type": "markdown",
   "id": "92aeaee9",
   "metadata": {},
   "source": [
    "### Q3. What is abc module in python? Why is it used?"
   ]
  },
  {
   "cell_type": "markdown",
   "id": "101ba351",
   "metadata": {},
   "source": [
    "The abc module in Python provides the infrastructure for defining Abstract Base Classes (ABCs). An abstract base class is a class that is designed to be inherited from, but not instantiated directly.. Using ABCs can help avoid bugs and make class hierarchies easier to maintain.To prevent instantiation of a class. This can be useful for ensuring that a class is only used as a base class, and not instantiated directly."
   ]
  },
  {
   "cell_type": "markdown",
   "id": "b40aa340",
   "metadata": {},
   "source": [
    "### Q4. How can we achieve data abstraction?"
   ]
  },
  {
   "cell_type": "markdown",
   "id": "092503d3",
   "metadata": {},
   "source": [
    "Use the abc module to create abstract classes that cannot be instantiated, and are only meant to be inherited. Abstract classes define one or more abstract methods, which are methods declared without their implementation known"
   ]
  },
  {
   "cell_type": "markdown",
   "id": "24403c3e",
   "metadata": {},
   "source": [
    "### Q5. Can we create an instance of an abstract class? Explain your answer."
   ]
  },
  {
   "cell_type": "markdown",
   "id": "eb5a0d97",
   "metadata": {},
   "source": [
    "No, you can't create an instance of an abstract class because it's not a concrete class and contains abstract methods that don't have implementations. However, you can create an instance of a subclass that extends the abstract class and provides an implementation for the abstract methods.abstract methods doesn,t allow the user to create instance of the object."
   ]
  },
  {
   "cell_type": "code",
   "execution_count": null,
   "id": "959fc916",
   "metadata": {},
   "outputs": [],
   "source": []
  }
 ],
 "metadata": {
  "kernelspec": {
   "display_name": "Python 3 (ipykernel)",
   "language": "python",
   "name": "python3"
  },
  "language_info": {
   "codemirror_mode": {
    "name": "ipython",
    "version": 3
   },
   "file_extension": ".py",
   "mimetype": "text/x-python",
   "name": "python",
   "nbconvert_exporter": "python",
   "pygments_lexer": "ipython3",
   "version": "3.11.4"
  }
 },
 "nbformat": 4,
 "nbformat_minor": 5
}
