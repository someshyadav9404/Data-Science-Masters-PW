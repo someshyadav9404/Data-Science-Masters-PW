{
  "metadata": {
    "kernelspec": {
      "name": "python",
      "display_name": "Python (Pyodide)",
      "language": "python"
    },
    "language_info": {
      "codemirror_mode": {
        "name": "python",
        "version": 3
      },
      "file_extension": ".py",
      "mimetype": "text/x-python",
      "name": "python",
      "nbconvert_exporter": "python",
      "pygments_lexer": "ipython3",
      "version": "3.8"
    }
  },
  "nbformat_minor": 4,
  "nbformat": 4,
  "cells": [
    {
      "cell_type": "markdown",
      "source": "### Q1, Create a vehicle class with an init method having instance variables as name_of_vehicle, max_speed and average_of_vehicle. ",
      "metadata": {}
    },
    {
      "cell_type": "code",
      "source": "class vehicle:\n def __init__(self,name,speed,avg):\n     self.name=name\n     self.speed=speed\n     self.avg=avg",
      "metadata": {
        "trusted": true
      },
      "outputs": [],
      "execution_count": 6
    },
    {
      "cell_type": "code",
      "source": "vehicle1 = vehicle(\"thar\",100,50)",
      "metadata": {
        "trusted": true
      },
      "outputs": [],
      "execution_count": 7
    },
    {
      "cell_type": "code",
      "source": "vehicle1.name",
      "metadata": {
        "trusted": true
      },
      "outputs": [
        {
          "execution_count": 9,
          "output_type": "execute_result",
          "data": {
            "text/plain": "'thar'"
          },
          "metadata": {}
        }
      ],
      "execution_count": 9
    },
    {
      "cell_type": "code",
      "source": "vehicle1.speed",
      "metadata": {
        "trusted": true
      },
      "outputs": [
        {
          "execution_count": 10,
          "output_type": "execute_result",
          "data": {
            "text/plain": "100"
          },
          "metadata": {}
        }
      ],
      "execution_count": 10
    },
    {
      "cell_type": "code",
      "source": "vehicle1.avg",
      "metadata": {
        "trusted": true
      },
      "outputs": [
        {
          "execution_count": 11,
          "output_type": "execute_result",
          "data": {
            "text/plain": "50"
          },
          "metadata": {}
        }
      ],
      "execution_count": 11
    },
    {
      "cell_type": "markdown",
      "source": "### Q2. Create a child class car from the vehicle class created in Que 1, which will inherit the vehicle class.\n### Create a method named seating_capacity which takes capacity as an argument and returns the name of the vehicle and its seating capacity.",
      "metadata": {}
    },
    {
      "cell_type": "code",
      "source": "class car(vehicle):\n    def seating_capacity(self,cap):\n        print(\"the name of the car is \" + str(self.name) +\" and the capacity is \"+ str(cap))",
      "metadata": {
        "trusted": true
      },
      "outputs": [],
      "execution_count": 34
    },
    {
      "cell_type": "code",
      "source": "car1 = car(\"toyota\",120,70)",
      "metadata": {
        "trusted": true
      },
      "outputs": [],
      "execution_count": 35
    },
    {
      "cell_type": "code",
      "source": "car1.seating_capacity(9)",
      "metadata": {
        "trusted": true
      },
      "outputs": [
        {
          "name": "stdout",
          "text": "the name of the car is toyota and the capacity is 9\n",
          "output_type": "stream"
        }
      ],
      "execution_count": 36
    },
    {
      "cell_type": "markdown",
      "source": "### Q3. What is multiple inheritance? Write a python code to demonstrate multiple inheritance.",
      "metadata": {}
    },
    {
      "cell_type": "markdown",
      "source": "Multiple inheritance is a feature in some programming languages that allows a subclass to inherit from more than one superclass, or base class. This can combine the behavior of multiple base classes into a single derived class.",
      "metadata": {}
    },
    {
      "cell_type": "code",
      "source": "class A:\n    def m1(self):\n        print(\"this is class m1\")\n\nclass B:\n    def m2(self):\n        print(\"this is class m2\")\n\nclass C(A,B):\n    pass",
      "metadata": {
        "trusted": true
      },
      "outputs": [],
      "execution_count": 44
    },
    {
      "cell_type": "code",
      "source": "c1 = C()",
      "metadata": {
        "trusted": true
      },
      "outputs": [],
      "execution_count": 46
    },
    {
      "cell_type": "code",
      "source": "c1.m1()",
      "metadata": {
        "trusted": true
      },
      "outputs": [
        {
          "name": "stdout",
          "text": "this is class m1\n",
          "output_type": "stream"
        }
      ],
      "execution_count": 48
    },
    {
      "cell_type": "code",
      "source": "c1.m2()",
      "metadata": {
        "trusted": true
      },
      "outputs": [
        {
          "name": "stdout",
          "text": "this is class m2\n",
          "output_type": "stream"
        }
      ],
      "execution_count": 49
    },
    {
      "cell_type": "markdown",
      "source": "### Q4. What are getter and setter in python? Create a class and create a getter and a setter method in this class.",
      "metadata": {}
    },
    {
      "cell_type": "code",
      "source": "# Getter is used to retreive values of object attributes ---- used as get\n# Setter is used to set values of object attributes ---- used as set\n",
      "metadata": {
        "trusted": true
      },
      "outputs": [],
      "execution_count": 50
    },
    {
      "cell_type": "code",
      "source": "class vehicle:\n    def __init__(self,model,speed):\n        self.model=model\n        self.speed=speed\n    def get_speed(self):\n        return self.speed\n    def set_speed(self,spd):\n        self.speed=spd",
      "metadata": {
        "trusted": true
      },
      "outputs": [],
      "execution_count": 63
    },
    {
      "cell_type": "code",
      "source": "v1 = vehicle(1999,120)",
      "metadata": {
        "trusted": true
      },
      "outputs": [],
      "execution_count": 64
    },
    {
      "cell_type": "code",
      "source": "v1.model",
      "metadata": {
        "trusted": true
      },
      "outputs": [
        {
          "execution_count": 65,
          "output_type": "execute_result",
          "data": {
            "text/plain": "1999"
          },
          "metadata": {}
        }
      ],
      "execution_count": 65
    },
    {
      "cell_type": "code",
      "source": "v1.speed",
      "metadata": {
        "trusted": true
      },
      "outputs": [
        {
          "execution_count": 66,
          "output_type": "execute_result",
          "data": {
            "text/plain": "120"
          },
          "metadata": {}
        }
      ],
      "execution_count": 66
    },
    {
      "cell_type": "code",
      "source": "v1.get_speed()",
      "metadata": {
        "trusted": true
      },
      "outputs": [
        {
          "execution_count": 69,
          "output_type": "execute_result",
          "data": {
            "text/plain": "120"
          },
          "metadata": {}
        }
      ],
      "execution_count": 69
    },
    {
      "cell_type": "code",
      "source": "v1.set_speed(80)",
      "metadata": {
        "trusted": true
      },
      "outputs": [],
      "execution_count": 70
    },
    {
      "cell_type": "code",
      "source": "v1.get_speed()",
      "metadata": {
        "trusted": true
      },
      "outputs": [
        {
          "execution_count": 72,
          "output_type": "execute_result",
          "data": {
            "text/plain": "80"
          },
          "metadata": {}
        }
      ],
      "execution_count": 72
    },
    {
      "cell_type": "markdown",
      "source": "### Q5.What is method overriding in python? Write a python code to demonstrate method overriding.",
      "metadata": {}
    },
    {
      "cell_type": "code",
      "source": "# Method overriding in Python is a feature of object-oriented programming (OOP) that allows implementation of a method that is\n# already defined in its superclass. ",
      "metadata": {
        "trusted": true
      },
      "outputs": [],
      "execution_count": 74
    },
    {
      "cell_type": "code",
      "source": "class A:\n    def do(self):\n        print(\"this is parent class\")\nclass B(A):\n    def do(self):\n        print(\"this is child class\")\n",
      "metadata": {
        "trusted": true
      },
      "outputs": [],
      "execution_count": 75
    },
    {
      "cell_type": "code",
      "source": "a1=A()",
      "metadata": {
        "trusted": true
      },
      "outputs": [],
      "execution_count": 76
    },
    {
      "cell_type": "code",
      "source": "b1=B()\n",
      "metadata": {
        "trusted": true
      },
      "outputs": [],
      "execution_count": 77
    },
    {
      "cell_type": "code",
      "source": "a1.do()\nb1.do()",
      "metadata": {
        "trusted": true
      },
      "outputs": [
        {
          "name": "stdout",
          "text": "this is parent class\nthis is child class\n",
          "output_type": "stream"
        }
      ],
      "execution_count": 78
    }
  ]
}