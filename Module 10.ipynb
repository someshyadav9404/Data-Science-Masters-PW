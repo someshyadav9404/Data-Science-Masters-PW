{
 "cells": [
  {
   "cell_type": "markdown",
   "id": "deccd337",
   "metadata": {},
   "source": [
    "# Assignment 2"
   ]
  },
  {
   "cell_type": "markdown",
   "id": "fbbb3547",
   "metadata": {},
   "source": [
    "### Q1. Which keyword is used to create a function? Create a function to return a list of odd numbers in the range of 1 to 25.\n",
    "\n",
    "Answer: 'def' keyword is used to create a function . \n",
    "\n"
   ]
  },
  {
   "cell_type": "code",
   "execution_count": 2,
   "id": "1d9789a3",
   "metadata": {},
   "outputs": [
    {
     "data": {
      "text/plain": [
       "[1, 3, 5, 7, 9, 11, 13, 15, 17, 19, 21, 23, 25]"
      ]
     },
     "execution_count": 2,
     "metadata": {},
     "output_type": "execute_result"
    }
   ],
   "source": [
    "# A function to return a list of odd numbers in the range of 1 to 25\n",
    "\n",
    "def odd():\n",
    "    return list(i for i in range(1,26) if i%2!=0)\n",
    "odd()"
   ]
  },
  {
   "cell_type": "markdown",
   "id": "d482ebfb",
   "metadata": {},
   "source": [
    "### Q2. Why *args and **kwargs is used in some functions? Create a function each for *args and **kwargs to demonstrate their use."
   ]
  },
  {
   "cell_type": "markdown",
   "id": "e9c193fa",
   "metadata": {},
   "source": [
    "Answer: *args is used when we have doubts about the number of arguments we should pass in a function.\n",
    "Whereas,\n",
    "*kwargs is used when we have doubts about the number of key value pairs we should pass in a function."
   ]
  },
  {
   "cell_type": "code",
   "execution_count": 8,
   "id": "ff8cbc83",
   "metadata": {},
   "outputs": [],
   "source": [
    "#A function for *args\n",
    "def argument(*args):\n",
    "   return args,type(args);\n"
   ]
  },
  {
   "cell_type": "code",
   "execution_count": 9,
   "id": "dbbd18f5",
   "metadata": {},
   "outputs": [
    {
     "data": {
      "text/plain": [
       "((1, 3, 4, 7, 'yh', 't'), tuple)"
      ]
     },
     "execution_count": 9,
     "metadata": {},
     "output_type": "execute_result"
    }
   ],
   "source": [
    "argument(1,3,4,7,\"yh\",\"t\")"
   ]
  },
  {
   "cell_type": "code",
   "execution_count": 10,
   "id": "3d22db95",
   "metadata": {},
   "outputs": [],
   "source": [
    "#A function for **kwargs\n",
    "def dict(**kwargs):\n",
    "    return kwargs, type(kwargs);"
   ]
  },
  {
   "cell_type": "code",
   "execution_count": 11,
   "id": "da05cceb",
   "metadata": {},
   "outputs": [
    {
     "data": {
      "text/plain": [
       "({'a': 11, 'b': 34, 'c': 'somu'}, dict)"
      ]
     },
     "execution_count": 11,
     "metadata": {},
     "output_type": "execute_result"
    }
   ],
   "source": [
    "dict(a = 11,b = 34 , c = \"somu\")"
   ]
  },
  {
   "cell_type": "markdown",
   "id": "0888f171",
   "metadata": {},
   "source": [
    "### Q3. What is an iterator in python? Name the method used to initialise the iterator object and the method used for iteration. Use these methods to print the first five elements of the given list [2, 4, 6, 8, 10, 12, 14, 16, 18, 20]."
   ]
  },
  {
   "cell_type": "markdown",
   "id": "5ebba24f",
   "metadata": {},
   "source": [
    "Answer: An iterator in Python is an object that is used to iterate over iterable objects like lists, tuples, dicts, and sets. The Python iterators object is initialized using the iter() method and iterated using next() method.\n"
   ]
  },
  {
   "cell_type": "code",
   "execution_count": 8,
   "id": "34a66b79",
   "metadata": {},
   "outputs": [
    {
     "name": "stdout",
     "output_type": "stream",
     "text": [
      "2\n",
      "4\n",
      "6\n",
      "8\n",
      "10\n"
     ]
    }
   ],
   "source": [
    "l = [2, 4, 6, 8, 10, 12, 14, 16, 18, 20]\n",
    "l1 = iter(l)\n",
    "for i in range(5):\n",
    "    print(next(l1))"
   ]
  },
  {
   "cell_type": "markdown",
   "id": "03c2f419",
   "metadata": {},
   "source": [
    "### Q4. What is a generator function in python? Why yield keyword is used? Give an example of a generator function. "
   ]
  },
  {
   "cell_type": "markdown",
   "id": "5b5bf082",
   "metadata": {},
   "source": [
    "Answer:  A generator function in Python is a special type of function that returns a generator iterator, which can be used to iterate over a sequence of elements. A generator function is defined like a normal function, but instead of using the return statement to return a value, it uses the yield statement.\n"
   ]
  },
  {
   "cell_type": "code",
   "execution_count": 32,
   "id": "2440db6f",
   "metadata": {},
   "outputs": [
    {
     "name": "stdout",
     "output_type": "stream",
     "text": [
      "0\n",
      "1\n",
      "1\n",
      "2\n",
      "3\n",
      "5\n",
      "8\n",
      "13\n",
      "21\n",
      "34\n"
     ]
    }
   ],
   "source": [
    "# For Example\n",
    "def gen():\n",
    "    a,b = 0,1;\n",
    "    while True:\n",
    "        yield a;\n",
    "        a,b = b, a+b;\n",
    "generator = gen()\n",
    "for i in range(10):\n",
    "    print(next(generator))\n"
   ]
  },
  {
   "cell_type": "markdown",
   "id": "ef7f940d",
   "metadata": {},
   "source": [
    "### Q5. Create a generator function for prime numbers less than 1000. Use the next() method to print the first 20 prime numbers."
   ]
  },
  {
   "cell_type": "code",
   "execution_count": 1,
   "id": "dbca8b3f",
   "metadata": {},
   "outputs": [
    {
     "name": "stdout",
     "output_type": "stream",
     "text": [
      "2\n",
      "3\n",
      "5\n",
      "7\n",
      "11\n",
      "13\n",
      "17\n",
      "19\n",
      "23\n",
      "29\n",
      "31\n",
      "37\n",
      "41\n",
      "43\n",
      "47\n",
      "53\n",
      "59\n",
      "61\n",
      "67\n",
      "71\n"
     ]
    }
   ],
   "source": [
    "#Generator function for prime no less than 1000\n",
    "def prime_generator():\n",
    "    primes = []\n",
    "    i = 2\n",
    "    while True:\n",
    "        for p in primes:\n",
    "            if i % p == 0:\n",
    "                break\n",
    "        else:\n",
    "            primes.append(i)\n",
    "            yield i\n",
    "        i += 1\n",
    "gen = prime_generator()\n",
    "for i in range(20):\n",
    "    print(next(gen))"
   ]
  },
  {
   "cell_type": "markdown",
   "id": "8a22f929",
   "metadata": {},
   "source": [
    "### Q6. Write a python program to print the first 10 Fibonacci numbers using a while loop."
   ]
  },
  {
   "cell_type": "code",
   "execution_count": 9,
   "id": "987b94f0",
   "metadata": {},
   "outputs": [
    {
     "name": "stdout",
     "output_type": "stream",
     "text": [
      "0\n",
      "1\n",
      "1\n",
      "2\n",
      "3\n",
      "5\n",
      "8\n",
      "13\n",
      "21\n",
      "34\n"
     ]
    }
   ],
   "source": [
    "#A python program to print the first 10 fibonacci numbers\n",
    "def fibonacci():\n",
    "    a, b = 0, 1\n",
    "    count = 0\n",
    "    #using while loop\n",
    "    while count < 10:\n",
    "        print(a)\n",
    "        a, b = b, a + b\n",
    "        count += 1\n",
    "\n",
    "fibonacci()"
   ]
  },
  {
   "cell_type": "markdown",
   "id": "56692325",
   "metadata": {},
   "source": [
    "### Q7. Write a List Comprehension to iterate through the given string: ‘pwskills’.\n",
    "### Expected output: ['p', 'w', 's', 'k', 'i', 'l', 'l', 's'] "
   ]
  },
  {
   "cell_type": "code",
   "execution_count": 11,
   "id": "b580e648",
   "metadata": {},
   "outputs": [
    {
     "data": {
      "text/plain": [
       "['p', 'w', 's', 'k', 'i', 'l', 'l', 's']"
      ]
     },
     "execution_count": 11,
     "metadata": {},
     "output_type": "execute_result"
    }
   ],
   "source": [
    "# List Comprehension to iterate through the given string: ‘pwskills’\n",
    "string = 'pwskills'\n",
    "[i for i in string]"
   ]
  },
  {
   "cell_type": "markdown",
   "id": "1aa1fb62",
   "metadata": {},
   "source": [
    "### Q8. Write a python program to check whether a given number is Palindrome or not using a while loop."
   ]
  },
  {
   "cell_type": "code",
   "execution_count": 25,
   "id": "237c3414",
   "metadata": {},
   "outputs": [],
   "source": [
    "#A python program to check whether a given number is Palindrome or not using a while loop\n",
    "def palindrome(w):\n",
    "    z = str(w)\n",
    "    x = 0; y = -1;\n",
    "    while x < len(z):\n",
    "        if z[x] != z[y]:\n",
    "            print('the input is not a palindrome')\n",
    "            break\n",
    "        else:\n",
    "            x+=1\n",
    "            y-=1\n",
    "    else:\n",
    "        print('the input is a palindrome')\n"
   ]
  },
  {
   "cell_type": "code",
   "execution_count": 26,
   "id": "c1fd3813",
   "metadata": {},
   "outputs": [
    {
     "name": "stdout",
     "output_type": "stream",
     "text": [
      "the input is a palindrome\n"
     ]
    }
   ],
   "source": [
    "palindrome(123321)"
   ]
  },
  {
   "cell_type": "code",
   "execution_count": 27,
   "id": "5e1a2d43",
   "metadata": {},
   "outputs": [
    {
     "name": "stdout",
     "output_type": "stream",
     "text": [
      "the input is a palindrome\n"
     ]
    }
   ],
   "source": [
    "palindrome(12321)"
   ]
  },
  {
   "cell_type": "code",
   "execution_count": 28,
   "id": "b42e1a63",
   "metadata": {},
   "outputs": [
    {
     "name": "stdout",
     "output_type": "stream",
     "text": [
      "the input is not a palindrome\n"
     ]
    }
   ],
   "source": [
    "palindrome(1234213)"
   ]
  },
  {
   "cell_type": "markdown",
   "id": "06f4d89c",
   "metadata": {},
   "source": [
    "### Q9. Write a code to print odd numbers from 1 to 100 using list comprehension."
   ]
  },
  {
   "cell_type": "markdown",
   "id": "0635602c",
   "metadata": {},
   "source": [
    "##### Note: Use a list comprehension to create a list from 1 to 100 and use another List comprehension to filter out odd numbers."
   ]
  },
  {
   "cell_type": "code",
   "execution_count": 43,
   "id": "e12d8088",
   "metadata": {},
   "outputs": [
    {
     "name": "stdout",
     "output_type": "stream",
     "text": [
      "[1, 3, 5, 7, 9, 11, 13, 15, 17, 19, 21, 23, 25, 27, 29, 31, 33, 35, 37, 39, 41, 43, 45, 47, 49, 51, 53, 55, 57, 59, 61, 63, 65, 67, 69, 71, 73, 75, 77, 79, 81, 83, 85, 87, 89, 91, 93, 95, 97, 99]\n"
     ]
    }
   ],
   "source": [
    "numbers = [i for i in range(1,101)]\n",
    "odd = [i for i in numbers if i%2!=0]\n",
    "print(odd)\n"
   ]
  },
  {
   "cell_type": "code",
   "execution_count": null,
   "id": "35e67a16",
   "metadata": {},
   "outputs": [],
   "source": []
  }
 ],
 "metadata": {
  "kernelspec": {
   "display_name": "Python 3 (ipykernel)",
   "language": "python",
   "name": "python3"
  },
  "language_info": {
   "codemirror_mode": {
    "name": "ipython",
    "version": 3
   },
   "file_extension": ".py",
   "mimetype": "text/x-python",
   "name": "python",
   "nbconvert_exporter": "python",
   "pygments_lexer": "ipython3",
   "version": "3.11.4"
  }
 },
 "nbformat": 4,
 "nbformat_minor": 5
}
