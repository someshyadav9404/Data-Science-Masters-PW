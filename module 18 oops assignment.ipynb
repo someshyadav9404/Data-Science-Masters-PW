{
  "metadata": {
    "kernelspec": {
      "name": "python",
      "display_name": "Python (Pyodide)",
      "language": "python"
    },
    "language_info": {
      "codemirror_mode": {
        "name": "python",
        "version": 3
      },
      "file_extension": ".py",
      "mimetype": "text/x-python",
      "name": "python",
      "nbconvert_exporter": "python",
      "pygments_lexer": "ipython3",
      "version": "3.8"
    }
  },
  "nbformat_minor": 5,
  "nbformat": 4,
  "cells": [
    {
      "id": "71b70272-4f55-459f-a73f-bf62ca69ca0c",
      "cell_type": "markdown",
      "source": "### Q1. Which function is used to open a file? What are the different modes of opening a file? Explain each mode of file opening.",
      "metadata": {}
    },
    {
      "id": "1cbbdbeb-b8ee-46c9-989c-b5c42be96f49",
      "cell_type": "code",
      "source": "\"\"\"The fopen() function is used to create a file or open an existing file.\nThere are different modes for opening a file i.e. \n'r' (read mode): Allows you to read the file.\n'w' (write mode): Allows you to write to    the file, but if the file already exists, its contents will be deleted.\n'a' (append mode): Allows you to write to the end of the file.\n'r+' (read-write mode): Allows you to both read and write to the file.\n'w+' (read-write mode): Allows you to both read and write to the file\"\"\"  ",
      "metadata": {
        "trusted": true
      },
      "outputs": [
        {
          "execution_count": 1,
          "output_type": "execute_result",
          "data": {
            "text/plain": "\"The fopen() function is used to create a file or open an existing file.\\nThere are different modes for opening a file i.e. \\n'r' (read mode): Allows you to read the file.\\n'w' (write mode): Allows you to write to    the file, but if the file already exists, its contents will be deleted.\\n'a' (append mode): Allows you to write to the end of the file.\\n'r+' (read-write mode): Allows you to both read and write to the file.\\n'w+' (read-write mode): Allows you to both read and write to the file\""
          },
          "metadata": {}
        }
      ],
      "execution_count": 1
    },
    {
      "id": "d7a667ac-7e31-4e8c-9449-11cbba478b96",
      "cell_type": "markdown",
      "source": "### Q2. Why close() function is used? Why is it important to close a file?",
      "metadata": {}
    },
    {
      "id": "29f9cc00-24b8-470f-a5c5-dca79955ed4c",
      "cell_type": "code",
      "source": "\"\"\"Closing a file after use is important to prevent data loss, corruption, and resource exhaustion.That's why the close\nfunction is used after openingthe file.\"\"\"\n",
      "metadata": {
        "trusted": true
      },
      "outputs": [
        {
          "execution_count": 2,
          "output_type": "execute_result",
          "data": {
            "text/plain": "\"Closing a file after use is important to prevent data loss, corruption, and resource exhaustion.That's why the close\\nfunction is used after openingthe file.\""
          },
          "metadata": {}
        }
      ],
      "execution_count": 2
    },
    {
      "id": "2a62c30c-27d1-4d68-ab16-0595f571d9a7",
      "cell_type": "markdown",
      "source": "### Q3. Write a python program to create a text file. Write ‘I want to become a Data Scientist’ in that file. Then close the file. Open this file and read the content of the file.",
      "metadata": {}
    },
    {
      "id": "5418812e-a5ad-4544-940c-61a98c454ffd",
      "cell_type": "code",
      "source": "\"\"\"python program to create a text file\"\"\"\nfile = open(\"somesh.txt\",\"w\")\nfile.write(\"I want to become a Data Scientist\")\nfile.close()",
      "metadata": {
        "trusted": true
      },
      "outputs": [],
      "execution_count": 3
    },
    {
      "id": "9aed14fe-bf57-4bf0-81a0-da24a1864826",
      "cell_type": "code",
      "source": "file = open(\"somesh.txt\",\"r\")\ncontent = file.read()\nprint(content)",
      "metadata": {
        "trusted": true
      },
      "outputs": [
        {
          "name": "stdout",
          "text": "I want to become a Data Scientist\n",
          "output_type": "stream"
        }
      ],
      "execution_count": 4
    },
    {
      "id": "af046220-2fa4-4080-a90b-200a779ee03c",
      "cell_type": "markdown",
      "source": "### Q4. Explain the following with python code: read(), readline() and readlines().",
      "metadata": {}
    },
    {
      "id": "350d3af6-89fa-4cb0-8d2d-71cf5dc5b418",
      "cell_type": "code",
      "source": "file = open(\"somesh.txt\",\"w\")\nfile.write(\"My name is somesh yadav\\nI am a pwskills batch student \\nI have enrolled in data science course\")\nfile.close()\n",
      "metadata": {
        "trusted": true
      },
      "outputs": [],
      "execution_count": 6
    },
    {
      "id": "f5fee10f-448e-436a-9ae9-b4650011fbb5",
      "cell_type": "code",
      "source": "file = open(\"somesh.txt\",\"r\")\ncontent = file.read()\nprint(content)",
      "metadata": {
        "trusted": true
      },
      "outputs": [
        {
          "name": "stdout",
          "text": "My name is somesh yadav\nI am a pwskills batch student \nI have enrolled in data science courseurse\n",
          "output_type": "stream"
        }
      ],
      "execution_count": 7
    },
    {
      "id": "b002385a-29ac-4284-aed1-db6fbd0c5dc8",
      "cell_type": "code",
      "source": "file = open(\"somesh.txt\",\"r\")\ncontent = file.readline()\nprint(content)",
      "metadata": {
        "trusted": true
      },
      "outputs": [
        {
          "name": "stdout",
          "text": "My name is somesh yadav\n\n",
          "output_type": "stream"
        }
      ],
      "execution_count": 8
    },
    {
      "id": "37d1b329-07c6-4ae4-a4f2-f26d3578d049",
      "cell_type": "code",
      "source": "file = open(\"somesh.txt\",\"r\")\nlines = file.readlines()\nfor line in lines :\n    print(line)",
      "metadata": {
        "trusted": true
      },
      "outputs": [
        {
          "name": "stdout",
          "text": "My name is somesh yadav\n\nI am a pwskills batch student \n\nI have enrolled in data science courseurse\n",
          "output_type": "stream"
        }
      ],
      "execution_count": 10
    },
    {
      "id": "75ebdc27-7a58-4936-9ccf-ff0b367622ed",
      "cell_type": "markdown",
      "source": "### Q5. Explain why with statement is used with open(). What is the advantage of using with statement and open() together?",
      "metadata": {}
    },
    {
      "id": "492abb4c-2af3-4360-86cc-87877107802a",
      "cell_type": "code",
      "source": "\"\"\"The with statement works with the open() function to open a file. Unlike open() where you have to close the file with the close() method,\nthe with statement closes the file for you without you telling it to\"\"\"",
      "metadata": {
        "trusted": true
      },
      "outputs": [
        {
          "execution_count": 11,
          "output_type": "execute_result",
          "data": {
            "text/plain": "'The with statement works with the open() function to open a file. Unlike open() where you have to close the file with the close() method,\\nthe with statement closes the file for you without you telling it to'"
          },
          "metadata": {}
        }
      ],
      "execution_count": 11
    },
    {
      "id": "95077db3-d45f-4858-8da5-d89de1a34de3",
      "cell_type": "markdown",
      "source": "### Q6. Explain the write() and writelines() functions. Give a suitable example.",
      "metadata": {}
    },
    {
      "id": "eb8f1385-be15-48eb-8556-a2112386d757",
      "cell_type": "code",
      "source": "with open(\"output.txt\", \"w\") as f:\n    f.write(\"Hello, \")\n    f.writelines([\"world!\", \"This is a test file.\"])\n\n",
      "metadata": {
        "trusted": true
      },
      "outputs": [],
      "execution_count": 19
    },
    {
      "id": "8344daf6-57ab-4418-8aca-ebbc36ebb8d8",
      "cell_type": "code",
      "source": "with open(\"output.txt\",\"r\") as f:\n    content = f.read()\n    print(content)\n    ",
      "metadata": {
        "trusted": true
      },
      "outputs": [
        {
          "name": "stdout",
          "text": "Hello, world!This is a test file.\n",
          "output_type": "stream"
        }
      ],
      "execution_count": 21
    },
    {
      "id": "25edaeaa-b9ab-4539-b5a4-f3297d40e790",
      "cell_type": "code",
      "source": "# \"[]\" is used to pass the list of strings",
      "metadata": {
        "trusted": true
      },
      "outputs": [],
      "execution_count": 22
    },
    {
      "id": "0bff762b-5c86-4b3b-9209-4ff61a110194",
      "cell_type": "code",
      "source": "",
      "metadata": {
        "trusted": true
      },
      "outputs": [],
      "execution_count": null
    },
    {
      "id": "b57ccb47-b510-4d78-8379-791208485e6c",
      "cell_type": "code",
      "source": "",
      "metadata": {
        "trusted": true
      },
      "outputs": [],
      "execution_count": null
    }
  ]
}