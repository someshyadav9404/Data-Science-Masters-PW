{
 "cells": [
  {
   "cell_type": "markdown",
   "id": "dfb7aac6",
   "metadata": {},
   "source": [
    "# Assignment 4"
   ]
  },
  {
   "cell_type": "markdown",
   "id": "53ea2bbe",
   "metadata": {},
   "source": [
    "### Q1. Explain Class and Object with respect to Object-Oriented Programming. Give a suitable example."
   ]
  },
  {
   "cell_type": "markdown",
   "id": "a12f73e6",
   "metadata": {},
   "source": [
    "A class is a user-defined blueprint or prototype from which objects are created. Classes provide a means of bundling data and functionality together. Creating a new class creates a new type of object, allowing new instances of that type to be made.\n",
    "An Object is an instance of a Class. A class is like a blueprint while an instance is a copy of the class with actual values. It’s not an idea anymore, it’s an actual dog, like a dog of breed pug who’s seven years old."
   ]
  },
  {
   "cell_type": "code",
   "execution_count": 4,
   "id": "2777b3d0",
   "metadata": {},
   "outputs": [
    {
     "name": "stdout",
     "output_type": "stream",
     "text": [
      "hello pw soldiers\n"
     ]
    }
   ],
   "source": [
    "# FOR EXAMPLE\n",
    "class pwskills():\n",
    "    def welcome_msg(self):\n",
    "        print('hello pw soldiers')\n",
    "        \n",
    "rohan = pwskills()\n",
    "rohan.welcome_msg()"
   ]
  },
  {
   "cell_type": "markdown",
   "id": "567187bd",
   "metadata": {},
   "source": [
    "### Q2. Name the four pillars of OOPs."
   ]
  },
  {
   "cell_type": "markdown",
   "id": "dbb539f9",
   "metadata": {},
   "source": [
    "Answer\n",
    "\n",
    "###### 1. Abstraction\n",
    "###### 2. Encapsulation\n",
    "###### 3. Polymorphism\n",
    "###### 4. Inheritance"
   ]
  },
  {
   "cell_type": "markdown",
   "id": "bbbca98f",
   "metadata": {},
   "source": [
    "### Q3. Explain why the __init__() function is used. Give a suitable example."
   ]
  },
  {
   "cell_type": "markdown",
   "id": "2d087837",
   "metadata": {},
   "source": [
    "Answer: init() function is used as a constructor which is used to create objects.The __init__ method in Python is called automatically whenever a new class object is created. This happens using the class name followed by parentheses that contain any arguments required by the __init__ method. In this example, we define a Person class with two attributes name and age."
   ]
  },
  {
   "cell_type": "code",
   "execution_count": 7,
   "id": "d2826998",
   "metadata": {},
   "outputs": [],
   "source": [
    "class Person:\n",
    "    def __init__(self, name, age):\n",
    "        self.name = name\n",
    "        self.age = age\n",
    "        \n",
    "    def details(self):\n",
    "        return self.name , self.age"
   ]
  },
  {
   "cell_type": "code",
   "execution_count": 8,
   "id": "09b04f58",
   "metadata": {},
   "outputs": [],
   "source": [
    "rohan = Person(\"rohan\",20)"
   ]
  },
  {
   "cell_type": "code",
   "execution_count": 9,
   "id": "17d0dce8",
   "metadata": {},
   "outputs": [
    {
     "data": {
      "text/plain": [
       "('rohan', 20)"
      ]
     },
     "execution_count": 9,
     "metadata": {},
     "output_type": "execute_result"
    }
   ],
   "source": [
    "rohan.details()"
   ]
  },
  {
   "cell_type": "markdown",
   "id": "a552c845",
   "metadata": {},
   "source": [
    "### Q4. Why self is used in OOPs?"
   ]
  },
  {
   "cell_type": "markdown",
   "id": "2228cec8",
   "metadata": {},
   "source": [
    "Answer : In object-oriented programming (OOP), the self keyword is used to refer to the instance of the class. It is used as the first parameter in each method definition for a class.  By using the “self” keyword, we can access the attributes and methods of the class."
   ]
  },
  {
   "cell_type": "markdown",
   "id": "74941b0a",
   "metadata": {},
   "source": [
    "### Q5. What is inheritance? Give an example for each type of inheritance."
   ]
  },
  {
   "cell_type": "markdown",
   "id": "17e97131",
   "metadata": {},
   "source": [
    "Answer: Inheritance is the property of the class function and a mechanism of acquiring the features and behaviors of a class by another class. The class whose members are inherited is called the base class, and the class that inherits those members is called the derived class.\n",
    "    It implements Is-A relationship.\n",
    "    for example:\n",
    "        Horse is an animal."
   ]
  },
  {
   "cell_type": "code",
   "execution_count": 10,
   "id": "73234b3f",
   "metadata": {},
   "outputs": [],
   "source": [
    "#mainly there are three types of inheritance\n",
    "# SINGLE INHERITANCE\n",
    "#for example\n",
    "class inherit:\n",
    "    def call(self):\n",
    "        return \"this is class 1\"\n",
    "class inherit2(inherit):\n",
    "    def call2(self):\n",
    "        return \"this is class 2\""
   ]
  },
  {
   "cell_type": "code",
   "execution_count": 11,
   "id": "1cb29c25",
   "metadata": {},
   "outputs": [
    {
     "data": {
      "text/plain": [
       "'this is class 1'"
      ]
     },
     "execution_count": 11,
     "metadata": {},
     "output_type": "execute_result"
    }
   ],
   "source": [
    "inherit2_obj = inherit2()\n",
    "inherit2_obj.call()"
   ]
  },
  {
   "cell_type": "code",
   "execution_count": 12,
   "id": "f495feef",
   "metadata": {},
   "outputs": [
    {
     "data": {
      "text/plain": [
       "'this is class 2'"
      ]
     },
     "execution_count": 12,
     "metadata": {},
     "output_type": "execute_result"
    }
   ],
   "source": [
    "inherit2_obj.call2()"
   ]
  },
  {
   "cell_type": "code",
   "execution_count": 13,
   "id": "95ba1ebf",
   "metadata": {},
   "outputs": [],
   "source": [
    "# MULTILEVEL INHERITANCE\n",
    "class inherit:\n",
    "    def call(self):\n",
    "        return \"this is class 1\"\n",
    "class inherit2(inherit):\n",
    "    def call2(self):\n",
    "        return \"this is class 2\"\n",
    "class inherit3(inherit2):\n",
    "    pass"
   ]
  },
  {
   "cell_type": "code",
   "execution_count": 14,
   "id": "da7c3d8c",
   "metadata": {},
   "outputs": [],
   "source": [
    "inherit3_obj = inherit3()"
   ]
  },
  {
   "cell_type": "code",
   "execution_count": 15,
   "id": "01667d44",
   "metadata": {},
   "outputs": [
    {
     "data": {
      "text/plain": [
       "'this is class 1'"
      ]
     },
     "execution_count": 15,
     "metadata": {},
     "output_type": "execute_result"
    }
   ],
   "source": [
    "inherit3_obj.call()\n"
   ]
  },
  {
   "cell_type": "code",
   "execution_count": 16,
   "id": "826ce9d0",
   "metadata": {},
   "outputs": [
    {
     "data": {
      "text/plain": [
       "'this is class 2'"
      ]
     },
     "execution_count": 16,
     "metadata": {},
     "output_type": "execute_result"
    }
   ],
   "source": [
    "inherit3_obj.call2()\n"
   ]
  },
  {
   "cell_type": "code",
   "execution_count": 18,
   "id": "ac6c5559",
   "metadata": {},
   "outputs": [],
   "source": [
    "#MULTIPLE INHERITANCE\n",
    "class inherit:\n",
    "    def call(self):\n",
    "        return \"this is class 1\"\n"
   ]
  },
  {
   "cell_type": "code",
   "execution_count": 21,
   "id": "11b03074",
   "metadata": {},
   "outputs": [],
   "source": [
    "class inherit2():\n",
    "    def call2(self):\n",
    "        return \"this is class 2\"\n"
   ]
  },
  {
   "cell_type": "code",
   "execution_count": 22,
   "id": "619e418e",
   "metadata": {},
   "outputs": [],
   "source": [
    "class child( inherit , inherit2):\n",
    "    pass"
   ]
  },
  {
   "cell_type": "code",
   "execution_count": null,
   "id": "632c5b88",
   "metadata": {},
   "outputs": [],
   "source": []
  }
 ],
 "metadata": {
  "kernelspec": {
   "display_name": "Python 3 (ipykernel)",
   "language": "python",
   "name": "python3"
  },
  "language_info": {
   "codemirror_mode": {
    "name": "ipython",
    "version": 3
   },
   "file_extension": ".py",
   "mimetype": "text/x-python",
   "name": "python",
   "nbconvert_exporter": "python",
   "pygments_lexer": "ipython3",
   "version": "3.11.4"
  }
 },
 "nbformat": 4,
 "nbformat_minor": 5
}
