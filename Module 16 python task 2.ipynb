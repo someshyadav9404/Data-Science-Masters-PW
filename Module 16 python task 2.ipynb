{
  "metadata": {
    "kernelspec": {
      "name": "python",
      "display_name": "Python (Pyodide)",
      "language": "python"
    },
    "language_info": {
      "codemirror_mode": {
        "name": "python",
        "version": 3
      },
      "file_extension": ".py",
      "mimetype": "text/x-python",
      "name": "python",
      "nbconvert_exporter": "python",
      "pygments_lexer": "ipython3",
      "version": "3.8"
    }
  },
  "nbformat_minor": 4,
  "nbformat": 4,
  "cells": [
    {
      "cell_type": "markdown",
      "source": "# Assignment 8 ",
      "metadata": {}
    },
    {
      "cell_type": "markdown",
      "source": "### Q1. You are writing code for a company. The requirement of the company is that you create a python function that will check whether the password entered by the user is correct or not. The function should take the password as input and return the string “Valid Password” if the entered password follows the below-given password guidelines else it should return “Invalid Password”.\n#### Note: 1. The Password should contain at least two uppercase letters and at least two lowercase letters.\n#### 2. The Password should contain at least a number and three special characters.\n#### 3. The length of the password should be 10 characters long.",
      "metadata": {}
    },
    {
      "cell_type": "code",
      "source": "def Password(str):\n    l = len(str);\n    low = up = num = sp = 0\n    \n    for  i in str:\n        if ((i >= 'a') and (i <= 'z')):\n            low+=1;\n        elif ((i >= 'A') and (i <= 'Z')):\n            up+=1\n        elif ((i >= '0') and (i <= '9')):\n            num+=1\n        else:\n            sp+=1\n    if ((l >= 10) and (num >= 1) and (sp>=3) and (up >=2) and (low >=2)):\n        return \"Valid Password\"\n    else:\n        return \"Invalid Password\"\n             \n              \n\nPassword(\"qweQW12@#@#\")",
      "metadata": {
        "trusted": true
      },
      "outputs": [
        {
          "execution_count": 7,
          "output_type": "execute_result",
          "data": {
            "text/plain": "'Valid Password'"
          },
          "metadata": {}
        }
      ],
      "execution_count": 7
    },
    {
      "cell_type": "markdown",
      "source": "### Q2. Solve the questions using at least one of the following:\n#### 1. Lambda function\n#### 2. Filter function\n#### 3. Map function\n#### 4. List Comprehension\n### Check if the string is numeric\n### Sort a list of tuples having fruit names and their quantity. [(\"mango\",99),(\"orange\",80), (\"grapes\", 1000)]\n### Find the squares of numbers from 1 to 10\n### Find the cube root of numbers from 1 to 10\n### Check if a given number is even\n### Filter odd numbers from the given list.\n### [1,2,3,4,5,6,7,8,9,10]\n### Sort a list of integers into positive and negative integers lists.\n### [1,2,3,4,5,6,-1,-2,-3,-4,-5,0]",
      "metadata": {}
    },
    {
      "cell_type": "code",
      "source": "# check if the string is numeric using lambda fn\na = lambda x: x.isnumeric()\na(\"2\")\n",
      "metadata": {
        "trusted": true
      },
      "outputs": [
        {
          "execution_count": 13,
          "output_type": "execute_result",
          "data": {
            "text/plain": "True"
          },
          "metadata": {}
        }
      ],
      "execution_count": 13
    },
    {
      "cell_type": "code",
      "source": "# Sort a list of tuples having fruit names and their quantity. [(\"mango\",99),(\"orange\",80), (\"grapes\", 1000)] using list comprehension\nl = [(\"mango\",99),(\"orange\",80), (\"grapes\", 1000)]\nl.sort(key = lambda x:x[1])\n[x for x in l]\n\n",
      "metadata": {
        "trusted": true
      },
      "outputs": [
        {
          "execution_count": 19,
          "output_type": "execute_result",
          "data": {
            "text/plain": "[('orange', 80), ('mango', 99), ('grapes', 1000)]"
          },
          "metadata": {}
        }
      ],
      "execution_count": 19
    },
    {
      "cell_type": "code",
      "source": "#Find the squares of numbers from 1 to 10\n[x*x for x in range(1,11)]",
      "metadata": {
        "trusted": true
      },
      "outputs": [
        {
          "execution_count": 20,
          "output_type": "execute_result",
          "data": {
            "text/plain": "[1, 4, 9, 16, 25, 36, 49, 64, 81, 100]"
          },
          "metadata": {}
        }
      ],
      "execution_count": 20
    },
    {
      "cell_type": "code",
      "source": "#Find the cube root of numbers from 1 to 10\nlist(map(lambda x: x**(1/3),[i for i in range(1,11)]))\n",
      "metadata": {
        "trusted": true
      },
      "outputs": [
        {
          "execution_count": 28,
          "output_type": "execute_result",
          "data": {
            "text/plain": "[1.0,\n 1.2599210498948732,\n 1.4422495703074083,\n 1.5874010519681994,\n 1.7099759466766968,\n 1.8171205928321397,\n 1.912931182772389,\n 2.0,\n 2.080083823051904,\n 2.154434690031884]"
          },
          "metadata": {}
        }
      ],
      "execution_count": 28
    },
    {
      "cell_type": "code",
      "source": "#Check if a given number is even\neven = lambda x : x%2 == 0\neven(4)",
      "metadata": {
        "trusted": true
      },
      "outputs": [
        {
          "execution_count": 33,
          "output_type": "execute_result",
          "data": {
            "text/plain": "True"
          },
          "metadata": {}
        }
      ],
      "execution_count": 33
    },
    {
      "cell_type": "code",
      "source": "#Filter odd numbers from the given list.\nlist(filter(lambda x: x%2 != 0,[i for i in range(1,11)]))",
      "metadata": {
        "trusted": true
      },
      "outputs": [
        {
          "execution_count": 37,
          "output_type": "execute_result",
          "data": {
            "text/plain": "[1, 3, 5, 7, 9]"
          },
          "metadata": {}
        }
      ],
      "execution_count": 37
    },
    {
      "cell_type": "code",
      "source": "#Sort a list of integers into positive and negative integers lists.\nl = [1,2,3,4,5,6,-1,-2,-3,-4,-5,0]\nlist(filter(lambda x :x<0,l))",
      "metadata": {
        "trusted": true
      },
      "outputs": [
        {
          "execution_count": 41,
          "output_type": "execute_result",
          "data": {
            "text/plain": "[-1, -2, -3, -4, -5]"
          },
          "metadata": {}
        }
      ],
      "execution_count": 41
    },
    {
      "cell_type": "code",
      "source": "list(filter( lambda x : x>=0,l))",
      "metadata": {
        "trusted": true
      },
      "outputs": [
        {
          "execution_count": 43,
          "output_type": "execute_result",
          "data": {
            "text/plain": "[1, 2, 3, 4, 5, 6, 0]"
          },
          "metadata": {}
        }
      ],
      "execution_count": 43
    },
    {
      "cell_type": "code",
      "source": "",
      "metadata": {
        "trusted": true
      },
      "outputs": [],
      "execution_count": null
    }
  ]
}