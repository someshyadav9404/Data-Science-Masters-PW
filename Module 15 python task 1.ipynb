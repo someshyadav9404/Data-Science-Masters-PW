{
  "metadata": {
    "kernelspec": {
      "name": "python",
      "display_name": "Python (Pyodide)",
      "language": "python"
    },
    "language_info": {
      "codemirror_mode": {
        "name": "python",
        "version": 3
      },
      "file_extension": ".py",
      "mimetype": "text/x-python",
      "name": "python",
      "nbconvert_exporter": "python",
      "pygments_lexer": "ipython3",
      "version": "3.8"
    }
  },
  "nbformat_minor": 4,
  "nbformat": 4,
  "cells": [
    {
      "cell_type": "markdown",
      "source": "# Assignment 9",
      "metadata": {}
    },
    {
      "cell_type": "markdown",
      "source": "### Q1. Create a function which will take a list as an argument and return the product of all the numbers after creating a flat list.\n### Use the below-given list as an argument for your function.\n#### list1 = [1,2,3,4, [44,55,66, True], False, (34,56,78,89,34), {1,2,3,3,2,1}, {1:34, \"key2\": [55, 67, 78, 89], 4: (45,22, 61, 34)}, [56, 'data science'], 'Machine Learning']\n##### Note: you must extract numeric keys and values of the dictionary also.",
      "metadata": {
        "tags": [],
        "editable": true,
        "slideshow": {
          "slide_type": "slide"
        }
      }
    },
    {
      "cell_type": "code",
      "source": "list1 = [1,2,3,4, [44,55,66, True], False, (34,56,78,89,34), {1,2,3,3,2,1},5, {1:34, \"key2\": [55, 67, 78, 89], 4: (45,22, 61, 34)}, [56, 'data science'], 'Machine Learning']\nlist2 = []\nfor i in list1:\n    if ((type(i) == list) or (type(i) == tuple) or (type(i) == set)):\n        for j in i :\n            if (type(j) == int):\n                list2.append(j)\n    elif(type(i) == int):\n        list2.append(i)\n    elif((type(i)== dict)):\n        \n        for k in i:\n            if (type(k)== int):\n                list2.append(k)\n            if (type(i[k]) == int):\n                list2.append(i[k])\n            elif ((type(i[k]) == list) or (type(i[k]) == tuple) or (type(i[k]) == set)):\n                for l in i[k]:\n                    list2.append(l)\n\nprint(list2)\nfrom functools import reduce\na = reduce(lambda x,y:x*y,list2)\nprint(a)\n        ",
      "metadata": {
        "trusted": true
      },
      "outputs": [
        {
          "name": "stdout",
          "text": "[1, 2, 3, 4, 44, 55, 66, 34, 56, 78, 89, 34, 1, 2, 3, 5, 1, 34, 55, 67, 78, 89, 4, 45, 22, 61, 34, 56]\n20673559194935427394169206210560000\n",
          "output_type": "stream"
        }
      ],
      "execution_count": 21
    },
    {
      "cell_type": "markdown",
      "source": "### Q2. Write a python program for encrypting a message sent to you by your friend. The logic of encryption should be such that, for a the output should be z. For b, the output should be y. For c, the output should be x respectively. Also, the whitespace should be replaced with a dollar sign. Keep the punctuation marks unchanged.\n#### Input Sentence: I want to become a Data Scientist.\n#### Encrypt the above input sentence using the program you just created.\n##### Note: Convert the given input sentence into lowercase before encrypting. The final output should be lowercase.",
      "metadata": {}
    },
    {
      "cell_type": "code",
      "source": "sen = \"I want to become a Data Scientist.\"\ndef encrypt(t):\n    if ((ord(t) >= 97) and (ord(t)<= 122)):\n        a = 123 - ord(t)\n        b = 26 - a\n        c = chr(122 -b)\n        return c\n    else:\n        return t\nnewsen = sen.lower()\nnewsen2 = newsen.replace(\" \",\"$\")\nnewsen3= \"\"\nfor i in newsen2:\n    q = encrypt(i)\n    a = str(q)\n    newsen3+=a\nprint(newsen)\nprint(newsen2)  \nprint(newsen3)\n    \n",
      "metadata": {
        "trusted": true
      },
      "outputs": [
        {
          "name": "stdout",
          "text": "i want to become a data scientist.\ni$want$to$become$a$data$scientist.\nr$dzmg$gl$yvxlnv$z$wzgz$hxrvmgrhg.\n",
          "output_type": "stream"
        }
      ],
      "execution_count": 5
    },
    {
      "cell_type": "code",
      "source": "",
      "metadata": {
        "trusted": true
      },
      "outputs": [],
      "execution_count": null
    }
  ]
}