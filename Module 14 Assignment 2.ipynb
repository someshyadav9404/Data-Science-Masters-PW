{
 "cells": [
  {
   "cell_type": "markdown",
   "id": "e2ab6cc9",
   "metadata": {},
   "source": [
    "# Assignment 6"
   ]
  },
  {
   "cell_type": "markdown",
   "id": "c3c9ba52",
   "metadata": {},
   "source": [
    "### Q1. Write a program to accept percentage from the user and display the grade "
   ]
  },
  {
   "cell_type": "code",
   "execution_count": 19,
   "id": "31d07547",
   "metadata": {},
   "outputs": [
    {
     "name": "stdout",
     "output_type": "stream",
     "text": [
      "enter your percentage : 56\n",
      "D\n"
     ]
    }
   ],
   "source": [
    "#program to show grade\n",
    "per = int(input(\"enter your percentage : \"))\n",
    "if per > 90:\n",
    "    print(\"A\")\n",
    "elif(per > 80 and per <= 90):\n",
    "    print(\"B\")\n",
    "elif(per >= 60 and per <=80):\n",
    "    print(\"C\")\n",
    "elif(per < 60):\n",
    "    print(\"D\")"
   ]
  },
  {
   "cell_type": "markdown",
   "id": "d099602c",
   "metadata": {},
   "source": [
    "### Q2. Write a program to accept the cost price of the bike and display the road tax to be paid."
   ]
  },
  {
   "cell_type": "code",
   "execution_count": 20,
   "id": "6f0d1e25",
   "metadata": {},
   "outputs": [
    {
     "name": "stdout",
     "output_type": "stream",
     "text": [
      "enter the cost price : 86437\n",
      "8643.7\n"
     ]
    }
   ],
   "source": [
    "cp = int(input(\"enter the cost price : \"))\n",
    "if cp > 100000:\n",
    "    print( cp*0.15)\n",
    "elif (cp > 50000 and cp <= 100000):\n",
    "    print(cp*0.1)\n",
    "elif (cp > 0 and cp <= 50000):\n",
    "    print(cp*0.05)"
   ]
  },
  {
   "cell_type": "markdown",
   "id": "563b7dd1",
   "metadata": {},
   "source": [
    "### Q3. Accept amy city from the user and display monument of the city."
   ]
  },
  {
   "cell_type": "code",
   "execution_count": 21,
   "id": "bea6f962",
   "metadata": {},
   "outputs": [
    {
     "name": "stdout",
     "output_type": "stream",
     "text": [
      "enter any city form Delhi , Agra , Jaipur : jaipur\n",
      "Jal Mahal\n"
     ]
    }
   ],
   "source": [
    "city = str(input(\"enter any city form Delhi , Agra , Jaipur : \"))\n",
    "city1 = city.capitalize()\n",
    "if city1 == \"Delhi\":\n",
    "    print(\"Red Fort\")\n",
    "elif city1 == \"Agra\":\n",
    "    print(\"Taj Mahal\")\n",
    "elif city1 == \"Jaipur\":\n",
    "    print(\"Jal Mahal\")"
   ]
  },
  {
   "cell_type": "markdown",
   "id": "0223dece",
   "metadata": {},
   "source": [
    "### Q4. Check how many times a given number is divisible by 3 before it is less than or equal to 10"
   ]
  },
  {
   "cell_type": "code",
   "execution_count": 24,
   "id": "a3e6cf21",
   "metadata": {},
   "outputs": [
    {
     "name": "stdout",
     "output_type": "stream",
     "text": [
      "Enter a no : 39\n",
      "2\n"
     ]
    }
   ],
   "source": [
    "x = int(input(\"Enter a no : \"))\n",
    "count = 0;\n",
    "while x > 10:\n",
    "    if x<=10:\n",
    "        break;\n",
    "    else :\n",
    "        count+=1;\n",
    "        x/=3;\n",
    "print(count)"
   ]
  },
  {
   "cell_type": "markdown",
   "id": "e30670f9",
   "metadata": {},
   "source": [
    "### Q5. Why and When to use While Loop in Python ,Give a detailed description with example."
   ]
  },
  {
   "cell_type": "markdown",
   "id": "35f02ed1",
   "metadata": {},
   "source": [
    "A while loop in Python is a programming construct that allows us to execute a block of code repeatedly, as long as a certain condition evaluates to True. The syntax of a while loop is as follows:\n",
    "    while condition:\n",
    "    # code block to be executed"
   ]
  },
  {
   "cell_type": "code",
   "execution_count": 25,
   "id": "e1266128",
   "metadata": {},
   "outputs": [
    {
     "name": "stdout",
     "output_type": "stream",
     "text": [
      "0\n",
      "1\n",
      "2\n",
      "3\n",
      "4\n",
      "5\n",
      "6\n",
      "7\n",
      "8\n",
      "9\n"
     ]
    }
   ],
   "source": [
    "# Initialize a variable\n",
    "count = 0\n",
    "\n",
    "# While the count is less than 10, print the count and increment it by 1\n",
    "while count < 10:\n",
    "    print(count)\n",
    "    count += 1\n",
    "# 1\n",
    "# 2\n",
    "# 3\n",
    "# 4\n",
    "# 5\n",
    "# 6\n",
    "# 7\n",
    "# 8\n",
    "# 9"
   ]
  },
  {
   "cell_type": "markdown",
   "id": "141d094e",
   "metadata": {},
   "source": [
    "### Q6. Use nested while loop to print 3 different patterns."
   ]
  },
  {
   "cell_type": "code",
   "execution_count": 32,
   "id": "0b89411f",
   "metadata": {},
   "outputs": [
    {
     "name": "stdout",
     "output_type": "stream",
     "text": [
      "\n",
      "1\n",
      "22\n",
      "333\n",
      "4444\n",
      "55555\n",
      "666666\n"
     ]
    }
   ],
   "source": [
    "#pattern1\n",
    "i  = 0 \n",
    "while i < 7:\n",
    "    j = 0\n",
    "    while j < i:\n",
    "        print(i,end ='')\n",
    "        j+=1;\n",
    "    print('')\n",
    "    i+=1;"
   ]
  },
  {
   "cell_type": "code",
   "execution_count": 33,
   "id": "f6a3eb0d",
   "metadata": {},
   "outputs": [
    {
     "name": "stdout",
     "output_type": "stream",
     "text": [
      "\n",
      "0\n",
      "01\n",
      "012\n",
      "0123\n",
      "01234\n",
      "012345\n"
     ]
    }
   ],
   "source": [
    "#pattern2\n",
    "i  = 0 \n",
    "while i < 7:\n",
    "    j = 0\n",
    "    while j < i:\n",
    "        print(j,end ='')\n",
    "        j+=1;\n",
    "    print('')\n",
    "    i+=1;"
   ]
  },
  {
   "cell_type": "code",
   "execution_count": 34,
   "id": "2358a9d7",
   "metadata": {},
   "outputs": [
    {
     "name": "stdout",
     "output_type": "stream",
     "text": [
      "\n",
      "1\n",
      "21\n",
      "321\n",
      "4321\n",
      "54321\n",
      "654321\n"
     ]
    }
   ],
   "source": [
    "#pattern3\n",
    "i  = 0 \n",
    "while i < 7:\n",
    "    j = i\n",
    "    while j>0:\n",
    "        print(j,end ='')\n",
    "        j-=1;\n",
    "    print('')\n",
    "    i+=1;"
   ]
  },
  {
   "cell_type": "markdown",
   "id": "550662de",
   "metadata": {},
   "source": [
    "### Q7. Reverse a while loop to display numbers from 10 to 1."
   ]
  },
  {
   "cell_type": "code",
   "execution_count": 35,
   "id": "71f22749",
   "metadata": {},
   "outputs": [
    {
     "name": "stdout",
     "output_type": "stream",
     "text": [
      "10\n",
      "9\n",
      "8\n",
      "7\n",
      "6\n",
      "5\n",
      "4\n",
      "3\n",
      "2\n",
      "1\n"
     ]
    }
   ],
   "source": [
    "i = 10\n",
    "while i > 0 :\n",
    "    print(i)\n",
    "    i-=1\n"
   ]
  },
  {
   "cell_type": "markdown",
   "id": "d8f41e6a",
   "metadata": {},
   "source": [
    "### Q8. Reverse a while loop to display numbers from 10 to 1."
   ]
  },
  {
   "cell_type": "code",
   "execution_count": 38,
   "id": "7b2a462e",
   "metadata": {},
   "outputs": [
    {
     "name": "stdout",
     "output_type": "stream",
     "text": [
      "10\n",
      "9\n",
      "8\n",
      "7\n",
      "6\n",
      "5\n",
      "4\n",
      "3\n",
      "2\n",
      "1\n"
     ]
    }
   ],
   "source": [
    "i =0 \n",
    "while i < 10:\n",
    "    j = 10 - i\n",
    "    print(j)\n",
    "    i+=1"
   ]
  },
  {
   "cell_type": "code",
   "execution_count": null,
   "id": "a8499fc1",
   "metadata": {},
   "outputs": [],
   "source": []
  }
 ],
 "metadata": {
  "kernelspec": {
   "display_name": "Python 3 (ipykernel)",
   "language": "python",
   "name": "python3"
  },
  "language_info": {
   "codemirror_mode": {
    "name": "ipython",
    "version": 3
   },
   "file_extension": ".py",
   "mimetype": "text/x-python",
   "name": "python",
   "nbconvert_exporter": "python",
   "pygments_lexer": "ipython3",
   "version": "3.11.4"
  }
 },
 "nbformat": 4,
 "nbformat_minor": 5
}
