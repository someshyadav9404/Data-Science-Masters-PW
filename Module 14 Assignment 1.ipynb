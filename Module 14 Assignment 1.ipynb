{
 "cells": [
  {
   "cell_type": "markdown",
   "id": "c6f04343",
   "metadata": {},
   "source": [
    "# Assignment 5 "
   ]
  },
  {
   "cell_type": "markdown",
   "id": "fce38ee9",
   "metadata": {},
   "source": [
    "### Q1. Who developed python programming language?"
   ]
  },
  {
   "cell_type": "markdown",
   "id": "0cd19b3e",
   "metadata": {},
   "source": [
    "Guido van Rossum, a Dutch programmer, developed the Python programming language in 1991. "
   ]
  },
  {
   "cell_type": "markdown",
   "id": "8058f273",
   "metadata": {},
   "source": [
    "### Q2. Which type of programming does python support?"
   ]
  },
  {
   "cell_type": "markdown",
   "id": "1b01130e",
   "metadata": {},
   "source": [
    "Python supports procedural programming , object oriented programming and functional programming."
   ]
  },
  {
   "cell_type": "markdown",
   "id": "8db79f5d",
   "metadata": {},
   "source": [
    "### Q3. Is python case sensitive when dealing with identifiers?\n"
   ]
  },
  {
   "cell_type": "markdown",
   "id": "d366e025",
   "metadata": {},
   "source": [
    "Yes , python is case sensitive language, it deals with lower case and upper case differently."
   ]
  },
  {
   "cell_type": "markdown",
   "id": "8bede699",
   "metadata": {},
   "source": [
    "### Q4. What is the correct extension of python file?"
   ]
  },
  {
   "cell_type": "markdown",
   "id": "3a184940",
   "metadata": {},
   "source": [
    ".py is the correct extension of python file."
   ]
  },
  {
   "cell_type": "markdown",
   "id": "1a15fb15",
   "metadata": {},
   "source": [
    "### Q5. Is python code compiled or interpreted?"
   ]
  },
  {
   "cell_type": "raw",
   "id": "b7d5fc45",
   "metadata": {},
   "source": [
    "The python code is interpreted."
   ]
  },
  {
   "cell_type": "markdown",
   "id": "f989d76b",
   "metadata": {},
   "source": [
    "### Q6 .Name a few block of codes used to define in python language?\n"
   ]
  },
  {
   "cell_type": "markdown",
   "id": "aa2070e9",
   "metadata": {},
   "source": [
    "In Python, indentation is used to define a block of code. "
   ]
  },
  {
   "cell_type": "markdown",
   "id": "266d182b",
   "metadata": {},
   "source": [
    "### Q7. State a character used to give single line comments in python ?"
   ]
  },
  {
   "cell_type": "markdown",
   "id": "75860b93",
   "metadata": {},
   "source": [
    "'#' is used to give single line comments in python."
   ]
  },
  {
   "cell_type": "markdown",
   "id": "ae51b8d1",
   "metadata": {},
   "source": [
    "### Q8. Mention functions which can help us to find the version of python that we are currently working on ?"
   ]
  },
  {
   "cell_type": "markdown",
   "id": "c91e944b",
   "metadata": {},
   "source": [
    "sys.version is used to find the version of python."
   ]
  },
  {
   "cell_type": "markdown",
   "id": "5dfd873f",
   "metadata": {},
   "source": [
    "### Q9. python supports the creation of anonymous functions at runtime , using a constructor called ______.\n"
   ]
  },
  {
   "cell_type": "markdown",
   "id": "4ea755d7",
   "metadata": {},
   "source": [
    "Lambda"
   ]
  },
  {
   "cell_type": "markdown",
   "id": "27608fea",
   "metadata": {},
   "source": [
    "### Q10. What does pip stand for python? "
   ]
  },
  {
   "cell_type": "code",
   "execution_count": null,
   "id": "4e90f463",
   "metadata": {},
   "outputs": [],
   "source": [
    "Preffered Installer Program"
   ]
  },
  {
   "cell_type": "markdown",
   "id": "d7e9882a",
   "metadata": {},
   "source": [
    "### Q11. Mention a few built in functions in python?"
   ]
  },
  {
   "cell_type": "markdown",
   "id": "49c5df3d",
   "metadata": {},
   "source": [
    "iter(),\n",
    "next(),\n",
    "len(),\n",
    "list(),\n",
    "map(),\n",
    "reduce(),\n",
    "while(),\n",
    "for(),\n",
    "lambda() etc"
   ]
  },
  {
   "cell_type": "markdown",
   "id": "e7f9d00e",
   "metadata": {},
   "source": [
    "### Q12. What is the maximum possible length of an identifier in python?"
   ]
  },
  {
   "cell_type": "markdown",
   "id": "a8605aa2",
   "metadata": {},
   "source": [
    "79 characters"
   ]
  },
  {
   "cell_type": "markdown",
   "id": "39a6f0e2",
   "metadata": {},
   "source": [
    "### Q13. What are the benefits of using python ?"
   ]
  },
  {
   "cell_type": "markdown",
   "id": "77a14b87",
   "metadata": {},
   "source": [
    "Easy to Read and Learn.\n",
    "\n",
    "Reduces Maintenance Cost.\n",
    "\n",
    "Avoid the Harm of Software Bugs.\n",
    "\n",
    "Wide Applicability.\n",
    "\n",
    "Easy Memory Management.\n",
    "\n",
    "Large Community.\n",
    "\n",
    "Asynchronous Coding. \n",
    "\n",
    "Integration with Other Languages."
   ]
  },
  {
   "cell_type": "markdown",
   "id": "dcb8a9ab",
   "metadata": {},
   "source": [
    "### Q14. How is memory managed in python?"
   ]
  },
  {
   "cell_type": "markdown",
   "id": "283a5488",
   "metadata": {},
   "source": [
    "Python uses a private heap space to store objects and data structures. The Python memory manager is responsible for managing this private heap. It takes care of allocating memory for new objects and freeing memory for objects that are no longer in use."
   ]
  },
  {
   "cell_type": "markdown",
   "id": "b3a3b785",
   "metadata": {},
   "source": [
    "### Q15. How to install python on windows and set path variables?"
   ]
  },
  {
   "cell_type": "markdown",
   "id": "87f43c05",
   "metadata": {},
   "source": [
    "Step 1: Locate Python Installation.\n",
    "    \n",
    "Step 2: Verify Python Installation.\n",
    "\n",
    "Step 3: Add Python to Path as an Environmental Variable.\n",
    "\n",
    "Step 4: Add Python Path to User Environmental Variables.\n",
    "\n",
    "Step 5: Check if the Environment variable is set or not.\n"
   ]
  },
  {
   "cell_type": "markdown",
   "id": "97b490ef",
   "metadata": {},
   "source": [
    "### Q16. Is indentation required in python?"
   ]
  },
  {
   "cell_type": "markdown",
   "id": "74edbd24",
   "metadata": {},
   "source": [
    "Yes, indentation is the most important thing in python programming."
   ]
  }
 ],
 "metadata": {
  "kernelspec": {
   "display_name": "Python 3 (ipykernel)",
   "language": "python",
   "name": "python3"
  },
  "language_info": {
   "codemirror_mode": {
    "name": "ipython",
    "version": 3
   },
   "file_extension": ".py",
   "mimetype": "text/x-python",
   "name": "python",
   "nbconvert_exporter": "python",
   "pygments_lexer": "ipython3",
   "version": "3.11.4"
  }
 },
 "nbformat": 4,
 "nbformat_minor": 5
}
